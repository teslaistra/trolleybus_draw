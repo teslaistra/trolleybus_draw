{
 "cells": [
  {
   "cell_type": "code",
   "execution_count": 3,
   "metadata": {},
   "outputs": [],
   "source": [
    "import pandas as pd\n",
    "import xlrd\n",
    "import json\n",
    "import geojson\n",
    "import numpy as np\n",
    "import folium\n",
    "from folium import plugins\n",
    "import random\n",
    "from datetime import datetime"
   ]
  },
  {
   "cell_type": "code",
   "execution_count": 9,
   "metadata": {
    "scrolled": false
   },
   "outputs": [
    {
     "name": "stderr",
     "output_type": "stream",
     "text": [
      "<ipython-input-9-c3e50922f1ee>:6: FutureWarning: Passing a negative integer is deprecated in version 1.0 and will not be supported in future version. Instead, use None to not limit the column width.\n",
      "  pd.set_option('display.max_colwidth', -1)\n"
     ]
    }
   ],
   "source": [
    "data = pd.read_excel(\"xroutes.xlsx\", error_bad_lines=False)\n",
    "\n",
    "pd.set_option('display.max_rows', None)\n",
    "pd.set_option('display.max_columns', None)\n",
    "pd.set_option('display.width', None)\n",
    "pd.set_option('display.max_colwidth', -1)"
   ]
  },
  {
   "cell_type": "code",
   "execution_count": 19,
   "metadata": {},
   "outputs": [
    {
     "data": {
      "text/html": [
       "<div>\n",
       "<style scoped>\n",
       "    .dataframe tbody tr th:only-of-type {\n",
       "        vertical-align: middle;\n",
       "    }\n",
       "\n",
       "    .dataframe tbody tr th {\n",
       "        vertical-align: top;\n",
       "    }\n",
       "\n",
       "    .dataframe thead th {\n",
       "        text-align: right;\n",
       "    }\n",
       "</style>\n",
       "<table border=\"1\" class=\"dataframe\">\n",
       "  <thead>\n",
       "    <tr style=\"text-align: right;\">\n",
       "      <th></th>\n",
       "      <th>ID</th>\n",
       "      <th>RouteNumber</th>\n",
       "      <th>RouteName</th>\n",
       "      <th>TrackOfFollowing</th>\n",
       "      <th>ReverseTrackOfFollowing</th>\n",
       "      <th>TypeOfTransport</th>\n",
       "      <th>CarrierName</th>\n",
       "      <th>global_id</th>\n",
       "      <th>geoData</th>\n",
       "    </tr>\n",
       "  </thead>\n",
       "  <tbody>\n",
       "    <tr>\n",
       "      <th>0</th>\n",
       "      <td>1933</td>\n",
       "      <td>1933</td>\n",
       "      <td>Рублево - Ул. Коцюбинского</td>\n",
       "      <td>Рублево - Советская ул. - Поворот на Рублево - Сад «Дружба» - МКАД - Черепково - ЦКБ - Ул. Марш. Тимошенко - Рублевское ш. - Ул. Акад. Павлова, 26 - 72-я гор. б-ца - Метро «Молодежная» - Ул. Марш. Сергеева - Дом культуры - Молодогвардейская ул. - Партизанская ул. - Ст. МЦД Рабочий Поселок - Ул. Ивана Франко - Полоцкая ул. - Ул. Екатерины Будановой - Ул. Коцюбинского</td>\n",
       "      <td>Ул. Коцюбинского - Ул. Ивана Франко - Ст. МЦД Рабочий Поселок - Партизанская ул. - Молодогвардейская ул. - Дом культуры - Ул. Марш. Сергеева - Метро «Молодежная» - 72-я гор. б-ца - Ул. Акад. Павлова, 26 - Рублевское ш. - Рубежный пр. - Ул. Марш. Тимошенко - Храм Преподобного Алексия - ЦКБ - Черепково - МКАД - Сад «Дружба» - Поворот на Рублево - Советская ул. - Рублево</td>\n",
       "      <td>троллейбус</td>\n",
       "      <td>ГУП «Мосгортранс»</td>\n",
       "      <td>480788316</td>\n",
       "      <td>{type=MultiLineString, coordinates=[[[55.810808, 37.485848], [55.806588, 37.507690], [55.801492, 37.527861], [55.800129, 37.532587], [55.794740, 37.545035], [55.784949, 37.567032], [55.777129, 37.583506], [55.776862, 37.583707], [55.776216, 37.582866], [55.776852, 37.582105], [55.777213, 37.582648], []]], center=[[37.397023, 55.75672]]}</td>\n",
       "    </tr>\n",
       "  </tbody>\n",
       "</table>\n",
       "</div>"
      ],
      "text/plain": [
       "     ID  RouteNumber                   RouteName  \\\n",
       "0  1933  1933         Рублево - Ул. Коцюбинского   \n",
       "\n",
       "                                                                                                                                                                                                                                                                                                                                                                   TrackOfFollowing  \\\n",
       "0  Рублево - Советская ул. - Поворот на Рублево - Сад «Дружба» - МКАД - Черепково - ЦКБ - Ул. Марш. Тимошенко - Рублевское ш. - Ул. Акад. Павлова, 26 - 72-я гор. б-ца - Метро «Молодежная» - Ул. Марш. Сергеева - Дом культуры - Молодогвардейская ул. - Партизанская ул. - Ст. МЦД Рабочий Поселок - Ул. Ивана Франко - Полоцкая ул. - Ул. Екатерины Будановой - Ул. Коцюбинского   \n",
       "\n",
       "                                                                                                                                                                                                                                                                                                                                                              ReverseTrackOfFollowing  \\\n",
       "0  Ул. Коцюбинского - Ул. Ивана Франко - Ст. МЦД Рабочий Поселок - Партизанская ул. - Молодогвардейская ул. - Дом культуры - Ул. Марш. Сергеева - Метро «Молодежная» - 72-я гор. б-ца - Ул. Акад. Павлова, 26 - Рублевское ш. - Рубежный пр. - Ул. Марш. Тимошенко - Храм Преподобного Алексия - ЦКБ - Черепково - МКАД - Сад «Дружба» - Поворот на Рублево - Советская ул. - Рублево   \n",
       "\n",
       "  TypeOfTransport        CarrierName  global_id  \\\n",
       "0  троллейбус      ГУП «Мосгортранс»  480788316   \n",
       "\n",
       "                                                                                                                                                                                                                                                                                                                                              geoData  \n",
       "0  {type=MultiLineString, coordinates=[[[55.810808, 37.485848], [55.806588, 37.507690], [55.801492, 37.527861], [55.800129, 37.532587], [55.794740, 37.545035], [55.784949, 37.567032], [55.777129, 37.583506], [55.776862, 37.583707], [55.776216, 37.582866], [55.776852, 37.582105], [55.777213, 37.582648], []]], center=[[37.397023, 55.75672]]}  "
      ]
     },
     "execution_count": 19,
     "metadata": {},
     "output_type": "execute_result"
    }
   ],
   "source": [
    "data"
   ]
  },
  {
   "cell_type": "code",
   "execution_count": 37,
   "metadata": {},
   "outputs": [
    {
     "name": "stderr",
     "output_type": "stream",
     "text": [
      "<ipython-input-37-f194bd6955d6>:6: FutureWarning: Passing a negative integer is deprecated in version 1.0 and will not be supported in future version. Instead, use None to not limit the column width.\n",
      "  pd.set_option('display.max_colwidth', -1)\n"
     ]
    }
   ],
   "source": [
    "data = pd.read_excel(\"alt.xlsx\", error_bad_lines=False)\n",
    "\n",
    "pd.set_option('display.max_rows', None)\n",
    "pd.set_option('display.max_columns', None)\n",
    "pd.set_option('display.width', None)\n",
    "pd.set_option('display.max_colwidth', -1)"
   ]
  },
  {
   "cell_type": "code",
   "execution_count": 4,
   "metadata": {},
   "outputs": [],
   "source": [
    "def fillLonLat(arr, lon,lat):\n",
    "    for i in range(0, len(res)):\n",
    "        if i % 2:\n",
    "            lat.append(res[i])\n",
    "        else: \n",
    "            lon.append(res[i])"
   ]
  },
  {
   "cell_type": "code",
   "execution_count": 5,
   "metadata": {},
   "outputs": [],
   "source": [
    "def drawRoute(Map, route, color1=None):\n",
    "    troll = data[data.TypeOfTransport == \"троллейбус\"][data.RouteNumber ==\n",
    "                                                       route].geoData.to_string(index=False)\n",
    "    try:\n",
    "        troll1 = troll.split('coordinates=[', 1)[1]\n",
    "        print(f\"Route {route} found...drawing it...\")\n",
    "    except IndexError:\n",
    "        print(\"Route not found!\", route)\n",
    "        return\n",
    "    troll1 = troll1.split(']]], center=', 1)[0]\n",
    "    troll1 = troll1.replace(\"[\", \"\")\n",
    "    troll1 = troll1.replace(\"]\", \"\")\n",
    "    troll1 = troll1.replace(\",\", \"\")\n",
    "    troll1 = troll1.split()\n",
    "\n",
    "    ini_array = np.array(troll1)\n",
    "    res = ini_array.astype(np.float)\n",
    "    lon = []\n",
    "    lat = []\n",
    "    for i in range(0, len(res)):\n",
    "        if i % 2:\n",
    "            lat.append(float(res[i]))\n",
    "        else:\n",
    "            lon.append(float(res[i]))\n",
    "    coord = []\n",
    "    def color(): return random.randint(0, 255)\n",
    "    for i in range(0, len(lat)):\n",
    "        coord.append([lat[i], lon[i]])\n",
    "    if color1 is None:\n",
    "        color1 = '#%02X%02X%02X' % (color(), color(), color())\n",
    "    route_line = folium.PolyLine(\n",
    "        coord,\n",
    "        weight=10,\n",
    "        smoothFactor=0.1,\n",
    "        color=color1).add_to(Map)"
   ]
  },
  {
   "cell_type": "markdown",
   "metadata": {},
   "source": [
    "Отрисовка N маршрутов рандомными цветами "
   ]
  },
  {
   "cell_type": "code",
   "execution_count": 21,
   "metadata": {},
   "outputs": [
    {
     "name": "stdout",
     "output_type": "stream",
     "text": [
      "Enter number of routes?\n",
      "1\n",
      "Enter number of route\n",
      "1933\n",
      "Route not found! 1933\n",
      "Done\n"
     ]
    },
    {
     "name": "stderr",
     "output_type": "stream",
     "text": [
      "c:\\users\\772\\appdata\\local\\programs\\python\\python38-32\\lib\\site-packages\\pandas\\core\\ops\\array_ops.py:253: FutureWarning: elementwise comparison failed; returning scalar instead, but in the future will perform elementwise comparison\n",
      "  res_values = method(rvalues)\n"
     ]
    }
   ],
   "source": [
    "print(\"Enter number of routes?\")\n",
    "number = int(input())\n",
    "\n",
    "routes = np.empty((0,1), str)\n",
    "\n",
    "Map = folium.Map(location=[55.734503,37.593484], zoom_start = 15, tiles = \"CartoDB dark_matter\")\n",
    "\n",
    "for i in range(0, number):\n",
    "    print(\"Enter number of route\")\n",
    "    NumOf = input()\n",
    "    routes = np.append(routes, np.array([[NumOf]]), axis=0)\n",
    "    drawRoute(Map, NumOf)\n",
    "\n",
    "Map.save(datetime.now().strftime(\"%H%M_%d%b%Y\")+\"_map.html\")\n",
    "print(\"Done\")"
   ]
  },
  {
   "cell_type": "code",
   "execution_count": null,
   "metadata": {},
   "outputs": [],
   "source": [
    "Map"
   ]
  },
  {
   "cell_type": "code",
   "execution_count": null,
   "metadata": {},
   "outputs": [],
   "source": [
    "def delayedCompare():\n",
    "    print(\"Enter number of NOT delayed routes?\")\n",
    "    number = int(input())\n",
    "\n",
    "    routes = np.empty((0, 1), str)\n",
    "\n",
    "    ActualMap = folium.Map(\n",
    "        location=[55.734503, 37.593484], zoom_start=15, tiles=\"CartoDB dark_matter\")\n",
    "    \n",
    "    OldMap = folium.Map(location=[55.734503, 37.593484],\n",
    "                        zoom_start=15, tiles=\"CartoDB dark_matter\")\n",
    "    def color(): return random.randint(0, 255)\n",
    "\n",
    "    for i in range(0, number):\n",
    "        print(\"Enter number of NOT delayed route\")\n",
    "        NumOf = input()\n",
    "        colorRoute = '#%02X%02X%02X' % (color(), color(), color())\n",
    "        routes = np.append(routes, np.array([[NumOf]]), axis=0)\n",
    "        drawRoute(ActualMap, NumOf, colorRoute)\n",
    "        drawRoute(OldMap, NumOf, colorRoute)\n",
    "\n",
    "\n",
    "    print(\"Enter number of delayed routes?\")\n",
    "    number = int(input())\n",
    "\n",
    "    routes = np.empty((0, 1), str)\n",
    "\n",
    "\n",
    "\n",
    "    for i in range(0, number):\n",
    "        print(\"Enter number of delayed route\")\n",
    "        NumOf = input()\n",
    "        colorRoute = '#%02X%02X%02X' % (color(), color(), color())\n",
    "        routes = np.append(routes, np.array([[NumOf]]), axis=0)\n",
    "        drawRoute(OldMap, NumOf, colorRoute)\n",
    "    \n",
    "    ActualMap.save(datetime.now().strftime(\"%H%M_%d%b%Y\")+\"_newMap.html\")\n",
    "\n",
    "    OldMap.save(datetime.now().strftime(\"%H%M_%d%b%Y\")+\"_OldMap.html\")\n",
    "\n",
    "    print(\"Done\")\n",
    "    ActualMap"
   ]
  },
  {
   "cell_type": "code",
   "execution_count": null,
   "metadata": {},
   "outputs": [],
   "source": [
    "delayedCompare()"
   ]
  },
  {
   "cell_type": "code",
   "execution_count": 8,
   "metadata": {},
   "outputs": [
    {
     "data": {
      "text/plain": [
       "' {type=MultiLineString, coordinates=[[[55.81080...'"
      ]
     },
     "execution_count": 8,
     "metadata": {},
     "output_type": "execute_result"
    }
   ],
   "source": [
    "data[data.TypeOfTransport == \"троллейбус\"][data.RouteNumber ==\n",
    "                                                    1933].geoData.to_string(index=False)"
   ]
  },
  {
   "cell_type": "code",
   "execution_count": 14,
   "metadata": {},
   "outputs": [
    {
     "name": "stdout",
     "output_type": "stream",
     "text": [
      "[[55.810808, 37.485848], [55.806588, 37.50769], [55.801492, 37.527861], [55.800129, 37.532587], [55.79474, 37.545035], [55.784949, 37.567032], [55.777129, 37.583506], [55.776862, 37.583707], [55.776216, 37.582866], [55.776852, 37.582105], [55.777213, 37.582648]]\n"
     ]
    }
   ],
   "source": [
    "data = pd.read_excel(\"alt.xlsx\", error_bad_lines=False)\n",
    "\n",
    "troll1 = data[data.TypeOfTransport == \"троллейбус\"][data.RouteNumber ==\n",
    "                                                    1933].geoData.to_string(index=False)\n",
    "\n",
    "Map = folium.Map(location=[55.734503,37.593484], zoom_start = 15, tiles = \"CartoDB dark_matter\")\n",
    "\n",
    "troll1 = troll1.split('coordinates=[', 1)[1]\n",
    "troll1 = troll1.split(']]], center=', 1)[0]\n",
    "troll1 = troll1.replace(\"[\", \"\")\n",
    "troll1 = troll1.replace(\"]\", \"\")\n",
    "troll1 = troll1.replace(\",\", \"\")\n",
    "troll1 = troll1.split()\n",
    "\n",
    "ini_array = np.array(troll1)\n",
    "res = ini_array.astype(np.float)\n",
    "lon = []\n",
    "lat = []\n",
    "for i in range(0, len(res)):\n",
    "    if i % 2:\n",
    "        lon.append(float(res[i]))\n",
    "    else:\n",
    "        lat.append(float(res[i]))\n",
    "coord = []\n",
    "def color(): return random.randint(0, 255)\n",
    "for i in range(0, len(lat)):\n",
    "    coord.append([lat[i], lon[i]])\n",
    "\n",
    "print(coord)\n",
    "color1 = '#%02X%02X%02X' % (color(), color(), color())\n",
    "route_line = folium.PolyLine(\n",
    "    coord,\n",
    "    weight=10,\n",
    "    smoothFactor=0.1,\n",
    "    color=color1).add_to(Map)\n",
    "\n",
    "\n",
    "#folium.CircleMarker(\n",
    "#    location=[55.810808, 37.485848],\n",
    "#    radius=3,\n",
    "#    popup='Конечная у ПС',\n",
    "#    color='#3186cc',\n",
    "#    fill=True,\n",
    "#    fill_color='#3186cc'\n",
    "#).add_to(Map)\n",
    "Map\n",
    "Map.save(datetime.now().strftime(\"%H%M_%d%b%Y\")+\"_map.html\")\n"
   ]
  },
  {
   "cell_type": "code",
   "execution_count": 15,
   "metadata": {},
   "outputs": [
    {
     "data": {
      "text/html": [
       "<div style=\"width:100%;\"><div style=\"position:relative;width:100%;height:0;padding-bottom:60%;\"><span style=\"color:#565656\">Make this Notebook Trusted to load map: File -> Trust Notebook</span><iframe src=\"about:blank\" style=\"position:absolute;width:100%;height:100%;left:0;top:0;border:none !important;\" data-html=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 onload=\"this.contentDocument.open();this.contentDocument.write(atob(this.getAttribute('data-html')));this.contentDocument.close();\" allowfullscreen webkitallowfullscreen mozallowfullscreen></iframe></div></div>"
      ],
      "text/plain": [
       "<folium.folium.Map at 0x54917f0>"
      ]
     },
     "execution_count": 15,
     "metadata": {},
     "output_type": "execute_result"
    }
   ],
   "source": [
    "Map"
   ]
  },
  {
   "cell_type": "code",
   "execution_count": 40,
   "metadata": {},
   "outputs": [
    {
     "data": {
      "text/html": [
       "<div style=\"width:100%;\"><div style=\"position:relative;width:100%;height:0;padding-bottom:60%;\"><span style=\"color:#565656\">Make this Notebook Trusted to load map: File -> Trust Notebook</span><iframe src=\"about:blank\" style=\"position:absolute;width:100%;height:100%;left:0;top:0;border:none !important;\" data-html=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 onload=\"this.contentDocument.open();this.contentDocument.write(atob(this.getAttribute('data-html')));this.contentDocument.close();\" allowfullscreen webkitallowfullscreen mozallowfullscreen></iframe></div></div>"
      ],
      "text/plain": [
       "<folium.folium.Map at 0x124a628>"
      ]
     },
     "execution_count": 40,
     "metadata": {},
     "output_type": "execute_result"
    }
   ],
   "source": [
    "Map = folium.Map(location=[55.734503,37.593484], zoom_start = 15, tiles = \"CartoDB dark_matter\")\n",
    "\n",
    "coord = [[37.485848, 55.810808], [37.485848, 55.810808]]\n",
    "route_line = folium.PolyLine(\n",
    "    coord,\n",
    "    weight=10,\n",
    "    smoothFactor=0.1,\n",
    "    color=color1).add_to(Map)\n",
    "\n",
    "\n",
    "\n",
    "Map"
   ]
  },
  {
   "cell_type": "code",
   "execution_count": null,
   "metadata": {},
   "outputs": [],
   "source": []
  }
 ],
 "metadata": {
  "kernelspec": {
   "display_name": "Python 3",
   "language": "python",
   "name": "python3"
  },
  "language_info": {
   "codemirror_mode": {
    "name": "ipython",
    "version": 3
   },
   "file_extension": ".py",
   "mimetype": "text/x-python",
   "name": "python",
   "nbconvert_exporter": "python",
   "pygments_lexer": "ipython3",
   "version": "3.8.3"
  }
 },
 "nbformat": 4,
 "nbformat_minor": 4
}
